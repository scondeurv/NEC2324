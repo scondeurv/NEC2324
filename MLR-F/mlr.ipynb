{
 "cells": [
  {
   "cell_type": "code",
   "execution_count": 5,
   "metadata": {},
   "outputs": [
    {
     "ename": "TypeError",
     "evalue": "LinearRegression.__init__() got an unexpected keyword argument 'learning_rate'",
     "output_type": "error",
     "traceback": [
      "\u001b[0;31m---------------------------------------------------------------------------\u001b[0m",
      "\u001b[0;31mTypeError\u001b[0m                                 Traceback (most recent call last)",
      "\u001b[1;32m/mnt/e/src/NEC2324/MLR-F/mlr.ipynb Cell 1\u001b[0m line \u001b[0;36m1\n\u001b[1;32m     <a href='vscode-notebook-cell://wsl%2Bubuntu-22.04/mnt/e/src/NEC2324/MLR-F/mlr.ipynb#W0sdnNjb2RlLXJlbW90ZQ%3D%3D?line=14'>15</a>\u001b[0m y \u001b[39m=\u001b[39m data\u001b[39m.\u001b[39miloc[:, \u001b[39m-\u001b[39m\u001b[39m1\u001b[39m]\u001b[39m.\u001b[39mvalues\n\u001b[1;32m     <a href='vscode-notebook-cell://wsl%2Bubuntu-22.04/mnt/e/src/NEC2324/MLR-F/mlr.ipynb#W0sdnNjb2RlLXJlbW90ZQ%3D%3D?line=16'>17</a>\u001b[0m X_train, X_test, y_train, y_test \u001b[39m=\u001b[39m train_test_split(X, y, test_size\u001b[39m=\u001b[39m\u001b[39m0.2\u001b[39m, random_state\u001b[39m=\u001b[39m\u001b[39m0\u001b[39m)\n\u001b[0;32m---> <a href='vscode-notebook-cell://wsl%2Bubuntu-22.04/mnt/e/src/NEC2324/MLR-F/mlr.ipynb#W0sdnNjb2RlLXJlbW90ZQ%3D%3D?line=18'>19</a>\u001b[0m regressor \u001b[39m=\u001b[39m LinearRegression(learning_rate\u001b[39m=\u001b[39;49m\u001b[39m\"\u001b[39;49m\u001b[39mconstant\u001b[39;49m\u001b[39m\"\u001b[39;49m, eta0 \u001b[39m=\u001b[39;49m learning_rate, alpha\u001b[39m=\u001b[39;49mmomentum, loss\u001b[39m=\u001b[39;49m\u001b[39m\"\u001b[39;49m\u001b[39msquared_loss\u001b[39;49m\u001b[39m\"\u001b[39;49m, max_iter\u001b[39m=\u001b[39;49m\u001b[39m2000\u001b[39;49m)\n\u001b[1;32m     <a href='vscode-notebook-cell://wsl%2Bubuntu-22.04/mnt/e/src/NEC2324/MLR-F/mlr.ipynb#W0sdnNjb2RlLXJlbW90ZQ%3D%3D?line=19'>20</a>\u001b[0m regressor\u001b[39m.\u001b[39mfit(X_train, y_train)\n\u001b[1;32m     <a href='vscode-notebook-cell://wsl%2Bubuntu-22.04/mnt/e/src/NEC2324/MLR-F/mlr.ipynb#W0sdnNjb2RlLXJlbW90ZQ%3D%3D?line=21'>22</a>\u001b[0m y_pred \u001b[39m=\u001b[39m regressor\u001b[39m.\u001b[39mpredict(X_test)\n",
      "\u001b[0;31mTypeError\u001b[0m: LinearRegression.__init__() got an unexpected keyword argument 'learning_rate'"
     ]
    }
   ],
   "source": [
    "import pandas as pd\n",
    "import numpy as np\n",
    "from sklearn.model_selection import learning_curve, train_test_split\n",
    "from sklearn.linear_model import SGDRegressor\n",
    "from sklearn.metrics import mean_absolute_percentage_error\n",
    "import matplotlib.pyplot as plt\n",
    "\n",
    "\n",
    "learning_rate = 0.01\n",
    "momentum = 0.5\n",
    "\n",
    "data = pd.read_csv('../datasets/electricity_load_forecasting-scaled.txt', sep='\\t', skiprows=1)\n",
    "\n",
    "X = data.iloc[:, :-1].values\n",
    "y = data.iloc[:, -1].values\n",
    "\n",
    "X_train, X_test, y_train, y_test = train_test_split(X, y, test_size=0.2, random_state=0)\n",
    "\n",
    "regressor = SGDRegressor(learning_rate=\"constant\", eta0 = learning_rate, alpha=momentum, loss=\"squared_error\", max_iter=2000)\n",
    "regressor.fit(X_train, y_train)\n",
    "\n",
    "y_pred = regressor.predict(X_test)\n",
    "\n",
    "mape = mean_absolute_percentage_error(y_test, y_pred)\n",
    "\n",
    "train_sizes, train_scores, test_scores = learning_curve(regressor, X_train, y_train, cv=10, scoring='neg_mean_absolute_percentage_error')\n",
    "train_scores_mean = -np.mean(train_scores, axis=1)\n",
    "test_scores_mean = -np.mean(test_scores, axis=1)\n",
    "plt.plot(train_sizes, train_scores_mean, label='Training error')\n",
    "plt.plot(train_sizes, test_scores_mean, label='Learning error')\n",
    "plt.xlabel('Training set size')\n",
    "plt.ylabel('MAPE')\n",
    "plt.legend()\n",
    "plt.show()\n",
    "\n",
    "\n",
    "plt.scatter(y_test, y_pred)\n",
    "plt.xlabel('Actual values')\n",
    "plt.ylabel('Predicted values')\n",
    "plt.show()\n"
   ]
  }
 ],
 "metadata": {
  "kernelspec": {
   "display_name": "Python 3",
   "language": "python",
   "name": "python3"
  },
  "language_info": {
   "codemirror_mode": {
    "name": "ipython",
    "version": 3
   },
   "file_extension": ".py",
   "mimetype": "text/x-python",
   "name": "python",
   "nbconvert_exporter": "python",
   "pygments_lexer": "ipython3",
   "version": "3.10.12"
  }
 },
 "nbformat": 4,
 "nbformat_minor": 2
}
